{
  "nbformat": 4,
  "nbformat_minor": 0,
  "metadata": {
    "colab": {
      "provenance": []
    },
    "kernelspec": {
      "name": "python3",
      "display_name": "Python 3"
    },
    "language_info": {
      "name": "python"
    }
  },
  "cells": [
    {
      "cell_type": "markdown",
      "metadata": {
        "id": "7af0ba7d"
      },
      "source": [
        "## Python Programming Exercises\n",
        "\n",
        "Here are the solutions to the coding exercises as requested. Each exercise is in a separate code cell with comments explaining the logic."
      ]
    },
    {
      "cell_type": "markdown",
      "metadata": {
        "id": "a8523ae8"
      },
      "source": [
        "### Exercise 1: Prime Numbers\n",
        "Write a Python program that checks whether a given number is prime or not."
      ]
    },
    {
      "cell_type": "code",
      "metadata": {
        "colab": {
          "base_uri": "https://localhost:8080/"
        },
        "id": "a0d8f023",
        "outputId": "b45815ea-a739-4a84-e74e-6040752b6390"
      },
      "source": [
        "def is_prime(number):\n",
        "  \"\"\"\n",
        "  Checks if a given number is prime.\n",
        "\n",
        "  Args:\n",
        "    number: An integer.\n",
        "\n",
        "  Returns:\n",
        "    True if the number is prime, False otherwise.\n",
        "  \"\"\"\n",
        "  if number <= 1:\n",
        "    return False\n",
        "  for i in range(2, int(number**0.5) + 1):\n",
        "    if number % i == 0:\n",
        "      return False\n",
        "  return True\n",
        "num = int(input(\"Enter an integer to check if it's prime: \"))\n",
        "\n",
        "if is_prime(num):\n",
        "  print(f\"{num} is a prime number.\")\n",
        "else:\n",
        "  print(f\"{num} is not a prime number.\")"
      ],
      "execution_count": 2,
      "outputs": [
        {
          "output_type": "stream",
          "name": "stdout",
          "text": [
            "Enter an integer to check if it's prime: 5\n",
            "5 is a prime number.\n"
          ]
        }
      ]
    },
    {
      "cell_type": "markdown",
      "metadata": {
        "id": "7693c6ca"
      },
      "source": [
        "### Exercise 2: Product of Random Numbers\n",
        "Develop a Python program that generates two random numbers and asks the user to enter the product of these numbers."
      ]
    },
    {
      "cell_type": "code",
      "metadata": {
        "colab": {
          "base_uri": "https://localhost:8080/"
        },
        "id": "8276f6b3",
        "outputId": "b582280b-5674-4bef-9412-c703effe3721"
      },
      "source": [
        "import random\n",
        "num1 = random.randint(1, 10)\n",
        "num2 = random.randint(1, 10)\n",
        "actual_product = num1 * num2\n",
        "user_answer_str = input(f\"What is the product of {num1} and {num2}? \")\n",
        "try:\n",
        "  user_answer = int(user_answer_str)\n",
        "  if user_answer == actual_product:\n",
        "    print(\"Correct! Well done.\")\n",
        "  else:\n",
        "    print(f\"Incorrect. The correct answer is {actual_product}.\")\n",
        "\n",
        "except ValueError:\n",
        "  print(\"Invalid input. Please enter an integer.\")"
      ],
      "execution_count": 3,
      "outputs": [
        {
          "output_type": "stream",
          "name": "stdout",
          "text": [
            "What is the product of 2 and 8? 16\n",
            "Correct! Well done.\n"
          ]
        }
      ]
    },
    {
      "cell_type": "markdown",
      "metadata": {
        "id": "eb2e95e2"
      },
      "source": [
        "### Exercise 3: Squares of Even/Odd Numbers\n",
        "Create a Python script that prints the squares of all even or odd numbers within the range of 100 to 200."
      ]
    },
    {
      "cell_type": "code",
      "metadata": {
        "colab": {
          "base_uri": "https://localhost:8080/"
        },
        "id": "30daccfa",
        "outputId": "0c4f1a9c-0503-4d47-ec5f-45aa45843171"
      },
      "source": [
        "\n",
        "print(\"Printing squares of even numbers between 100 and 200:\")\n",
        "\n",
        "for number in range(100, 201):\n",
        "  if number % 2 == 0:\n",
        "    square = number ** 2\n",
        "    print(f\"{number}^2 = {square}\")"
      ],
      "execution_count": 4,
      "outputs": [
        {
          "output_type": "stream",
          "name": "stdout",
          "text": [
            "Printing squares of even numbers between 100 and 200:\n",
            "100^2 = 10000\n",
            "102^2 = 10404\n",
            "104^2 = 10816\n",
            "106^2 = 11236\n",
            "108^2 = 11664\n",
            "110^2 = 12100\n",
            "112^2 = 12544\n",
            "114^2 = 12996\n",
            "116^2 = 13456\n",
            "118^2 = 13924\n",
            "120^2 = 14400\n",
            "122^2 = 14884\n",
            "124^2 = 15376\n",
            "126^2 = 15876\n",
            "128^2 = 16384\n",
            "130^2 = 16900\n",
            "132^2 = 17424\n",
            "134^2 = 17956\n",
            "136^2 = 18496\n",
            "138^2 = 19044\n",
            "140^2 = 19600\n",
            "142^2 = 20164\n",
            "144^2 = 20736\n",
            "146^2 = 21316\n",
            "148^2 = 21904\n",
            "150^2 = 22500\n",
            "152^2 = 23104\n",
            "154^2 = 23716\n",
            "156^2 = 24336\n",
            "158^2 = 24964\n",
            "160^2 = 25600\n",
            "162^2 = 26244\n",
            "164^2 = 26896\n",
            "166^2 = 27556\n",
            "168^2 = 28224\n",
            "170^2 = 28900\n",
            "172^2 = 29584\n",
            "174^2 = 30276\n",
            "176^2 = 30976\n",
            "178^2 = 31684\n",
            "180^2 = 32400\n",
            "182^2 = 33124\n",
            "184^2 = 33856\n",
            "186^2 = 34596\n",
            "188^2 = 35344\n",
            "190^2 = 36100\n",
            "192^2 = 36864\n",
            "194^2 = 37636\n",
            "196^2 = 38416\n",
            "198^2 = 39204\n",
            "200^2 = 40000\n"
          ]
        }
      ]
    },
    {
      "cell_type": "markdown",
      "metadata": {
        "id": "af5099ae"
      },
      "source": [
        "### Exercise 4: Word counter\n",
        "Write a program to count the number of words in a given text."
      ]
    },
    {
      "cell_type": "code",
      "metadata": {
        "colab": {
          "base_uri": "https://localhost:8080/"
        },
        "id": "266ab57c",
        "outputId": "b2c8bd51-f881-429e-e97b-8e2b7da7f7b0"
      },
      "source": [
        "from collections import Counter\n",
        "import re\n",
        "\n",
        "def word_counter(text):\n",
        "  \"\"\"\n",
        "  Counts the occurrences of each word in a given text.\n",
        "\n",
        "  Args:\n",
        "    text: The input string.\n",
        "\n",
        "  Returns:\n",
        "    A dictionary-like object (Counter) with word counts.\n",
        "  \"\"\"\n",
        "  words = re.findall(r'\\b\\w+\\b', text.lower())\n",
        "  word_counts = Counter(words)\n",
        "  return word_counts\n",
        "\n",
        "input_text = \"This is a sample text. This text will be used to demonstrate the word counter.\"\n",
        "counts = word_counter(input_text)\n",
        "for word, count in counts.items():\n",
        "    print(f\"'{word}': {count}\")"
      ],
      "execution_count": 5,
      "outputs": [
        {
          "output_type": "stream",
          "name": "stdout",
          "text": [
            "'this': 2\n",
            "'is': 1\n",
            "'a': 1\n",
            "'sample': 1\n",
            "'text': 2\n",
            "'will': 1\n",
            "'be': 1\n",
            "'used': 1\n",
            "'to': 1\n",
            "'demonstrate': 1\n",
            "'the': 1\n",
            "'word': 1\n",
            "'counter': 1\n"
          ]
        }
      ]
    },
    {
      "cell_type": "markdown",
      "metadata": {
        "id": "d6869bdd"
      },
      "source": [
        "### Exercise 5: Check for Palindrome\n",
        "Write a Python function called is_palindrome that takes a string as input and returns True if the string is a palindrome, and False otherwise."
      ]
    },
    {
      "cell_type": "code",
      "metadata": {
        "colab": {
          "base_uri": "https://localhost:8080/"
        },
        "id": "bc423a0c",
        "outputId": "ec263554-5ae7-4f7f-8860-2c4dac4a4e63"
      },
      "source": [
        "import re\n",
        "\n",
        "def is_palindrome(text):\n",
        "  \"\"\"\n",
        "  Checks if a string is a palindrome, ignoring spaces, punctuation, and capitalization.\n",
        "\n",
        "  Args:\n",
        "    text: The input string.\n",
        "\n",
        "  Returns:\n",
        "    True if the string is a palindrome, False otherwise.\n",
        "  \"\"\"\n",
        "\n",
        "  cleaned_text = re.sub(r'[^a-zA-Z0-9]', '', text).lower()\n",
        "\n",
        "  return cleaned_text == cleaned_text[::-1]\n",
        "\n",
        "# Example usage:\n",
        "input_string1 = \"racecar\"\n",
        "input_string2 = \"A man, a plan, a canal: Panama\"\n",
        "input_string3 = \"hello\"\n",
        "\n",
        "print(f\"'{input_string1}' is a palindrome: {is_palindrome(input_string1)}\")\n",
        "print(f\"'{input_string2}' is a palindrome: {is_palindrome(input_string2)}\")\n",
        "print(f\"'{input_string3}' is a palindrome: {is_palindrome(input_string3)}\")"
      ],
      "execution_count": 6,
      "outputs": [
        {
          "output_type": "stream",
          "name": "stdout",
          "text": [
            "'racecar' is a palindrome: True\n",
            "'A man, a plan, a canal: Panama' is a palindrome: True\n",
            "'hello' is a palindrome: False\n"
          ]
        }
      ]
    }
  ]
}